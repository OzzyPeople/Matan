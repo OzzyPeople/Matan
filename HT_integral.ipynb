{
 "cells": [
  {
   "cell_type": "markdown",
   "metadata": {},
   "source": [
    "**Задание 1. Найти неопределенный интеграл:**\n",
    "\n",
    "\\begin{align}\n",
    "\\int(2x^2 - 2x - 1 + sinx - cosx + lnx + e^x)dx =\\\\ \n",
    "2\\int(x^2dx)- 2\\int(xdx) - \\int(dx) + \\int(sinxdx) - \\int(cosxdx) + \\int(lnxdx) + \\int(e^xdx)=\\\\\n",
    "\\frac{2x^3}{3} - \\frac{2x^2}{2} - x - cosx - sinx + xlnx -x + e^x =\\\\\n",
    "\\frac{2x^3}{3} - x^2 - 2x - cosx - sinx + xlnx + e^x \n",
    "\\end{align}"
   ]
  },
  {
   "cell_type": "markdown",
   "metadata": {},
   "source": [
    "**Задание 2. Найти неопределенный интеграл:**\n",
    "\n",
    "\\begin{align}\n",
    "\\int(2x + 6xz^2 - 5x^2y - 3lnz)dx =\\\\\n",
    "2\\int(xdx) + 6z^2\\int(xdx) - 5y\\int(x^2dx) - 3lnz\\int(dx)= \\\\\n",
    "\\frac{2x^2}{2} + \\frac{6z^2x^2}{2} - \\frac{5yx^3}{3} - 3lnzx \\\\\n",
    "\\end{align}"
   ]
  },
  {
   "cell_type": "markdown",
   "metadata": {},
   "source": [
    "**Задание 3. Вычислить определенный интеграл:**\n",
    "\n",
    "\\begin{align}\n",
    "\\int_{0}^{\\Pi}  3x^2sin(2x)dx \\Rightarrow\\\\\n",
    "3\\int_{0}^{\\Pi}  3x^2sin(2x)dx\n",
    "\\end{align}\n",
    "\n",
    "Используем метод интегрирования по частям:\n",
    "\n",
    "\\begin{align}\n",
    "\\int udv = uv - \\int vdv\n",
    "\\end{align}\n",
    "\n",
    "Дифференцируем dv и берем интеграл dv для нахождения v\n",
    "\\begin{align}\n",
    "u = x^2 \\\\\n",
    "dv = sin(2x)dx \\\\\n",
    "du = 2xdx \\\\\n",
    "v = \\int sin2xdx = -\\frac{1}{2}cos2x\n",
    "\\end{align}\n",
    "\n",
    "Используем формулу интегрирования по частям, но с пределами по формуле:\n",
    "\n",
    "\\begin{align}\n",
    "\\int udv = uv|_{0}^{\\Pi}- \\int_{0}^{\\Pi} vdv\n",
    "\\end{align}\n",
    "\n",
    "Подставляем значения:\n",
    "\n",
    "\\begin{align}\n",
    "3 (x^2 (-\\frac{1}{2}cos2x)|_{0}^{\\Pi} - \\int_{0}^{\\Pi} \\frac{-cos2x}{2}2xdx) \\\\\n",
    "3 (x^2 (-\\frac{1}{2}cos2x)|_{0}^{\\Pi} + \\int_{0}^{\\Pi} x cos2xdx)\\\\\n",
    "3 ( - \\frac{x^2cos2x}{2})|_{0}^{\\Pi} + \\int_{0}^{\\Pi} x cos2xdx)\\\\\n",
    "\\end{align}\n",
    "\n",
    "Интеграл остался, повторим для него упражение интегрирование по частям:\n",
    "\n",
    "\\begin{align}\n",
    "\\int_{0}^{\\Pi} x cos2xdx\\\\\n",
    "u = x \\\\\n",
    "dv = cos2xdx \\\\\n",
    "du = dx \\\\\n",
    "v = \\int cos2xdx= \\frac{1}{2}sin2x \\\\\n",
    "\\frac{xsin2x}{2} + \\frac{cos2x}{4} \\\\\n",
    "\\frac{2xsin2x + cos2x}{4}\n",
    "\\end{align}\n",
    "\n",
    "Сводим все общую формулу:\n",
    "\\begin{align}\n",
    "3 ( - \\frac{x^2cos2x}{2})|_{0}^{\\Pi} + \\frac{2xsin2x + cos2x}{4}|_{0}^{\\Pi})\n",
    "\\end{align}\n",
    "\n",
    "\n",
    "Подставим значения пределов в общую формулу для нахождения определенного интеграла по формуле Ньютона-Лейбница:\n",
    "\\begin{align}\n",
    "3 (( - \\frac{\\Pi^2cos2\\Pi}{2}) - ( - \\frac{0^2cos2*0}{2}) )  + (\\frac{2\\Pi sin2\\Pi + cos2\\Pi}{4})-(\\frac{2 * 0 sin2*0 + cos2*0}{4}))\\\\ \n",
    "3 ((- \\frac{\\Pi^2*1}{2} - 0) + (\\frac{1}{4} - \\frac{1}{4}))\\\\\n",
    "= -\\frac{3\\Pi^2}{2}\n",
    "\\end{align}"
   ]
  },
  {
   "cell_type": "markdown",
   "metadata": {},
   "source": [
    "**Задание 4. Найти неопределенный интеграл:**\n",
    "\n",
    "\\begin{align}\n",
    "\\int\\frac{1}{\\sqrt{x+1}}dx\n",
    "\\end{align}\n",
    "\n",
    "используем метода замены переменной:\n",
    "\\begin{align}\n",
    "\\sqrt{x+1}=t \\\\\n",
    "x = t^2 -1 \\\\\n",
    "dx = d(t^2-1)' = 2tdt\\\\\n",
    "2\\int\\frac{t}{t}dt = 2\\sqrt{x+1} + C\n",
    "\\end{align}"
   ]
  },
  {
   "cell_type": "markdown",
   "metadata": {},
   "source": [
    "**Задание 5. Классифицировать ДУ и найти его решение:**\n",
    "\n",
    "\\begin{align}\n",
    "(4x^2 + \\frac{1}{2}y^2 - 6y)dx + (2x^3 + xy - 6x)dy=0\n",
    "\\end{align}"
   ]
  },
  {
   "cell_type": "markdown",
   "metadata": {},
   "source": [
    "Разделяем переменные и интегрируем\n",
    "\n",
    "\\begin{align}\n",
    "(4x^2 + \\frac{1}{2}y^2 - 6y)dx = -(2y^3 + xy - 6x)dy \\\\\n",
    "\\end{align}"
   ]
  },
  {
   "cell_type": "markdown",
   "metadata": {},
   "source": [
    "Найдем частные производные:\n",
    "\\begin{align}\n",
    "(4x^2 + \\frac{1}{2}y^2 - 6y)_{y}{'} = y - 6 \\\\\n",
    "(2y^3 + xy - 6x)_{x}{'} = y - 6\n",
    "\\end{align}\n",
    "\n",
    "По условию Коши-Римана это уравнение является полным: \n",
    "\n",
    "\\begin{align}\n",
    "\\frac{\\partial P}{\\partial x} = \\frac{\\partial Q}{\\partial y}\n",
    "\\end{align}\n",
    "\n",
    "Условия Коши-Римана выполнены, следовательно, уравнение является уравнением в полных дифференциалах и функция дифференцируема.\n",
    "Приступаем к поиску функции dU(x,y).\n",
    "\n",
    "первая часть \n",
    "\\begin{align}\n",
    "(4x^2 + \\frac{1}{2}y^2 - 6y)dx \\\\\n",
    "\\int 4x^2 dx + \\frac{y^2}{2} \\int dx - 6y \\int dx \\\\\n",
    "\\frac {4x^3}{3} + \\frac{xy^2}{2} - 6yx\n",
    "\\end{align}\n",
    "\n",
    "вторая часть \n",
    "\\begin{align}\n",
    "-(2y^3 + xy - 6x)dy \\\\\n",
    "-(\\int 2y^3 dy + x\\int y dy - 6x\\int dy) \\\\\n",
    "-\\frac{y^4}{4} - \\frac{xy^2}{2} + 6xy\n",
    "\\end{align}\n",
    "\n",
    "Общий интеграл уравнения \n",
    "\\begin{align}\n",
    "\\frac {4x^3}{3} + \\frac{xy^2}{2} - 6yx -\\frac{y^4}{4} - \\frac{xy^2}{2} + 6xy + С = 0 \\\\\n",
    "С = \\frac{y^4}{4} - \\frac {4x^3}{3}\n",
    "\\end{align}\n"
   ]
  },
  {
   "cell_type": "markdown",
   "metadata": {},
   "source": [
    "**Задание 6. Классифицировать ДУ и найти его решение:**\n",
    "\n",
    "\\begin{align}\n",
    "y' + y = x^2y^3\n",
    "\\end{align}\n",
    "\n",
    "по виду это похоже на уравнение Бернулли с n степенью > 2. Упростим и произведем замену на z\n",
    "\n",
    "\\begin{align}\n",
    "\\frac{y'}{y^3} + \\frac{1}{y^2} = x^2 \\\\\n",
    "z = \\frac{1}{y} \\\\\n",
    "z' = -\\frac{y'}{y^2} \\Rightarrow -z' = \\frac{y'}{y^2} \\\\\n",
    "z (-z)' + z^2 = x^2\n",
    "\\end{align}\n",
    "\n",
    "мы получили линейное дифференциальное уравнение, дальше как-то странно, попробуем другой способ\n",
    "\\begin{align}\n",
    "\\frac{y'}{y^3} + \\frac{1}{y^2} = x^2 \\\\\n",
    "\\frac{dy}{y^3} + \\frac{1}{y^2} = x^2dx \\\\\n",
    "\\int {dy}{y^3} + \\frac{1}{y^2} = \\int x^2dx \\\\\n",
    "{-3}{y^2} + \\frac{1}{y^2} = \\frac{x^3}{3} \\\\\n",
    "y = \\sqrt{-\\frac{6}{x^3}}\n",
    "\\end{align}"
   ]
  },
  {
   "cell_type": "code",
   "execution_count": null,
   "metadata": {},
   "outputs": [],
   "source": []
  }
 ],
 "metadata": {
  "kernelspec": {
   "display_name": "Python 3",
   "language": "python",
   "name": "python3"
  },
  "language_info": {
   "codemirror_mode": {
    "name": "ipython",
    "version": 3
   },
   "file_extension": ".py",
   "mimetype": "text/x-python",
   "name": "python",
   "nbconvert_exporter": "python",
   "pygments_lexer": "ipython3",
   "version": "3.7.3"
  }
 },
 "nbformat": 4,
 "nbformat_minor": 2
}
