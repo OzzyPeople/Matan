{
 "cells": [
  {
   "cell_type": "markdown",
   "metadata": {},
   "source": [
    "Задание 1. Найти производную\n",
    "\n",
    "\\begin{align}\n",
    "f(x) = sinx*cosx \\\\\n",
    "\\end{align}"
   ]
  },
  {
   "cell_type": "markdown",
   "metadata": {},
   "source": [
    "Используем правило дифференцирования произведения:\n",
    "    \n",
    "\\begin{align}\n",
    "(uv)' = u'v + v'u\n",
    "\\end{align}\n",
    "\n",
    "\\begin{align}\n",
    "f(x) = sinx*cosx \\\\\n",
    "f'(x) = cosx^2 - sinx^2\n",
    "\\end{align}"
   ]
  },
  {
   "cell_type": "markdown",
   "metadata": {},
   "source": [
    "Задание 2. Найти производную\n",
    "\n",
    "\\begin{align}\n",
    "f(x) = ln(2x+1)^3\n",
    "\\end{align}\n",
    "\n",
    "Если под натуральным логарифмом находится сложная функция, используем формулу: \n",
    "\n",
    "\\begin{align}\n",
    "ln(u) = \\frac{1}{u}*u'\\\\\n",
    "\\end{align}\n",
    "\n",
    "Находим решение\n",
    "\n",
    "\\begin{align}\n",
    "f(x) = ln(2x+1)^3\\\\\n",
    "f'(x) = \\frac{1}{(2x+1)^3}*3(2x+1)^2\\\\\n",
    "f'(x) = \\frac{3}{2x+1}\n",
    "\\end{align}"
   ]
  },
  {
   "cell_type": "markdown",
   "metadata": {},
   "source": [
    "**Задание 3. Найти производную**\n",
    "\n",
    "\\begin{align}\n",
    "f(x) = \\sqrt{sin^2(ln(x^3)}\n",
    "\\end{align}\n",
    "\n",
    "Производная иррациональной функции\n",
    "\n",
    "\\begin{align}\n",
    "f(\\sqrt[m]{x})'= \\frac{1}{m\\sqrt[m]{x}^{m-1}}\n",
    "\\end{align}\n",
    "\n",
    "Производная сложной функции\n",
    "\n",
    "\\begin{align}\n",
    "f(u(v))'= u'v*v'\n",
    "\\end{align}\n",
    "\n",
    "Открываем внешнюю функцию\n",
    "\\begin{align}\n",
    "f(x)'= \\frac{1}{2\\sqrt{(sin^2(ln(x^3))'}}\\\\\n",
    "f(x)'= \\frac{1}{2\\sqrt{(sin^2(ln(x^3))'}}\\\\\n",
    "\\end{align}\n",
    "\n",
    "\n",
    "Решаем внутреннюю функцию\n",
    "\\begin{align}\n",
    "f(x)'= (sin^2(ln(x^3))'\\\\\n",
    "f(x)'= 2sin(ln(x^3))* cos(ln(x^3))'\\\\\n",
    "f(x)'= 2sin(ln(x^3))* cos(\\frac{1}{x^3}*2x^2)\\\\\n",
    "f(x)'= 2sin(ln(x^3))* cos(\\frac{2}{x})\\\\\n",
    "\\end{align}\n",
    "\n",
    "Объединяем результат\n",
    "\\begin{align}\n",
    "f(x)'= \\frac{1}{2\\sqrt{2sin(ln(x^3))* cos(\\frac{2}{x})}}\\\\\n",
    "f(x)'= \\frac{1}{4\\sqrt{3sin(ln(x))* cos(\\frac{1}{x})}}\\\\\n",
    "\\end{align}\n"
   ]
  },
  {
   "cell_type": "markdown",
   "metadata": {},
   "source": [
    "**Задание 4. Найти производную**\n",
    "\n",
    "\\begin{align}\n",
    "f(x) = \\frac{x^4}{ln(x)} \\\\\n",
    "\\end{align}\n",
    "\n",
    "Используем правило дифференцирования частного\n",
    "\n",
    "\\begin{align}\n",
    "f(x) = (\\frac{u}{v})' = \\frac{(u)'v + v'u}{v^2}\n",
    "\\end{align}\n",
    "\n",
    "Находим производную\n",
    "\n",
    "\\begin{align}\n",
    "f(x)' = \\frac{3x^3ln(x) + \\frac{1}{x}*x^4 }{(ln(x))^2} \\\\\n",
    "f(x)' = \\frac{3x^3ln(x) + x^3 }{2ln(x)}\n",
    " = \\frac{3x^3}{2} + \\frac{x^3 }{2ln(x)}\n",
    "\\end{align}"
   ]
  },
  {
   "cell_type": "markdown",
   "metadata": {},
   "source": [
    "**Задание 5. Найти выражение производной функции и ее значение в точке.**\n",
    "\n",
    "\\begin{align}\n",
    "f(x) = cos(x^2 + 3x), x_0 = \\sqrt{\\pi}\n",
    "\\end{align}\n",
    "\n",
    "Находим внутренню функцию\n",
    "\n",
    "\\begin{align}\n",
    "f(x)' = (x^2 + 3x)'= (2x +3)\n",
    "\\end{align}\n",
    "\n",
    "Подставляем внутренню функцию и находим сложную функцию\n",
    "\\begin{align}\n",
    "f(x)' = (cos(2x +3))' = -sin(2x +3)(2)\\\\\n",
    "f(x)' = -2sin(2x +3)\n",
    "\\end{align}\n",
    "\n",
    "Находим значение производной в точке \n",
    "\\begin{align}\n",
    "f(x_0) = -2sin(2\\sqrt{\\pi} +3)\n",
    "\\end{align}"
   ]
  },
  {
   "cell_type": "markdown",
   "metadata": {},
   "source": [
    "**Задание 6. Найти значение производной функции в точке**\n",
    "\n",
    "\\begin{align}\n",
    "f(x) = \\frac{x^3 - x^2 - x - 1}{1+2x+3x^2+4x^3}, x_0 = 0\n",
    "\\end{align}\n",
    "\n",
    "Используем правило дифференцирования частного для нахождения производной\n",
    "\n",
    "\\begin{align}\n",
    "f(x) = (\\frac{u}{v})' = \\frac{(u)'v + v'u}{v^2}\n",
    "\\end{align}\n",
    "\n",
    "\\begin{align}\n",
    "f(x)' = \\frac{(x^3 - x^2 - x - 1)'(1+2x+3x^2+4x^3) + (x^3 - x^2 - x - 1)(1+2x+3x^2+4x^3)' }{(1+2x+3x^2+4x^3)^2}\\\\\n",
    "f(x)'= \\frac{(3x^2 - 2x-1)(1+2x+3x^2+4x^3) + (x^3 - x^2 - x - 1)(2+6x+12x^2)}{(1+2x+3x^2+4x^3)^2}\\\\\n",
    "f(x)'= \\frac{-19x^4 - 20x^3-24x^2 - 12*x - 3}{(1+2x+3x^2+4x^3)^2}\\\\\n",
    "\\end{align}\n",
    "\n",
    "Находим значение производной в точке \n",
    "\\begin{align}\n",
    "f(x_0)'= \\frac{-19*0^4 - 20*0^3-24*0^2 - 12*0 - 3}{(1+2*0+3*0^2+4*0^3)^2} = -3\n",
    "\\end{align}"
   ]
  },
  {
   "cell_type": "markdown",
   "metadata": {},
   "source": [
    "**Задание 7. Найти угол наклона касательной к графику функции в точке.**\n",
    "\n",
    "\\begin{align}\n",
    "f(x) = \\sqrt{3x}*ln(x), x_0 = 1\n",
    "\\end{align}\n",
    "\n",
    "Используем правило дифференцирования произведения для нахождения производной:\n",
    "    \n",
    "\\begin{align}\n",
    "(uv)' = u'v + v'u\n",
    "\\end{align}\n",
    "\n",
    "\n",
    "\\begin{align}\n",
    "f(x)' = (\\sqrt{3x}ln(x))'= (\\sqrt{3x})'ln(x) + (\\sqrt{3x})(ln(x))'\\\\\n",
    "f(x)' = (\\sqrt{3x})'ln(x) + (\\sqrt{3x})(ln(x))'\\\\\n",
    "f(x) = \\frac{1}{2\\sqrt{3x}}ln(x) + \\sqrt{3x}\\frac{1}{x}\\\\\n",
    "\\end{align}\n",
    "\n",
    "Находим значение производной в точке \n",
    "\\begin{align}\n",
    "f(x_0)'= \\frac{1}{2\\sqrt{3*1}}ln(1) + \\sqrt{3*1}\\frac{1}{1} =\\sqrt{3}\n",
    "\\end{align}"
   ]
  },
  {
   "cell_type": "code",
   "execution_count": null,
   "metadata": {},
   "outputs": [],
   "source": []
  }
 ],
 "metadata": {
  "kernelspec": {
   "display_name": "Python 3",
   "language": "python",
   "name": "python3"
  },
  "language_info": {
   "codemirror_mode": {
    "name": "ipython",
    "version": 3
   },
   "file_extension": ".py",
   "mimetype": "text/x-python",
   "name": "python",
   "nbconvert_exporter": "python",
   "pygments_lexer": "ipython3",
   "version": "3.7.3"
  }
 },
 "nbformat": 4,
 "nbformat_minor": 2
}
