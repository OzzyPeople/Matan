{
 "cells": [
  {
   "cell_type": "markdown",
   "metadata": {},
   "source": [
    "Ряд расходится, если сумма ряда = бесконечности или не существует.\n",
    "Ряда расходится, если сумма ряда = конечному числу или равна 0.\n",
    "Если предел ряда не стремится к нулю, то ряд расходится"
   ]
  },
  {
   "cell_type": "markdown",
   "metadata": {},
   "source": [
    "**Задача 1. Исследовать ряд на сходимость, используя признак д’Аламбера**\n",
    "\n",
    "\n",
    "\\begin{align}\n",
    "\\sum_{n=1}^{\\infty} \\frac{n^n}{(n!)^2}\n",
    "\\end{align}\n",
    "\n",
    "\\begin{align}\n",
    "\\lim_{n \\to \\infty} \\frac{\\frac{(n+1)^{n+1}}{(n+1)!^2}}{\\frac{n^n}{(n!)^2}}\n",
    "\\end{align}\n",
    "\n",
    "\\begin{align}\n",
    "\\lim_{n \\to \\infty} \\frac{(n+1)^n(n+1)(1*2*3 ..(n-2)(n-1)n)^2}{(1*2*3 ..(n-2)(n-1)n(n+1))^2*n^n}\n",
    "\\end{align}\n",
    "\n",
    "\\begin{align}\n",
    "\\lim_{n \\to \\infty} \\frac{(n+1)^n(n+1)}{(n+1)^2*n^n} \\\\\n",
    "\\lim_{n \\to \\infty} \\frac{(n+1)^n}{(n+1)*n^n} \\\\\n",
    "\\lim_{n \\to \\infty} \\frac{(n+1)^n}{n^{n+1} + n^n} = 0\n",
    "\\end{align}\n",
    "\n",
    "Вывод: предел меньше единицы, поэтому ряд сходится"
   ]
  },
  {
   "cell_type": "markdown",
   "metadata": {},
   "source": [
    "**Задача 2. Исследовать ряд на сходимость, используя радикальный признак Коши**\n",
    "\n",
    "\\begin{align}\n",
    "\\sum_{n=1}^{\\infty} \\frac{n^n}{2^n} \\\\\n",
    "D = \\lim_{n \\to \\infty}\\sqrt[n]{\\frac{n^n}{2^n}} = \\lim_{n \\to \\infty}{\\frac{n}{2}}=\\infty\n",
    "\\end{align}\n",
    "\n",
    "Предел (D)  > 1, значит ряд расходится."
   ]
  },
  {
   "cell_type": "markdown",
   "metadata": {},
   "source": [
    "Задача 3. Исследовать ряд на сходимость, используя признак Лейбница\n",
    "\n",
    "\\begin{align}\n",
    "\\sum_{n=1}^{\\infty} \\frac{(-1)^n}{n+ln n}\n",
    "\\end{align}\n",
    "\n",
    "Условия:\n",
    "\n",
    "1. Ряд является знакочередующимся.\n",
    "\n",
    "2. Предел по модулю = 0 и каждый следующий член ряда по модулю меньше, чем предыдущий. Таким образом, убывание монотонно.\n",
    "\n",
    "\\begin{align}\n",
    "\\lim_{n \\to \\infty}|\\frac{(-1)^n}{n+ln n}| = 0\n",
    "\\end{align}\n",
    "\n",
    "Вывод: ряд сходится."
   ]
  },
  {
   "cell_type": "markdown",
   "metadata": {},
   "source": [
    "Задача 4. Исследовать ряд на сходимость, используя признак Раабе\n",
    "\n",
    "\\begin{align}\n",
    "\\sum_{n=1}^{\\infty} \\frac{3^n}{2^n}\n",
    "\\end{align}"
   ]
  },
  {
   "cell_type": "markdown",
   "metadata": {},
   "source": [
    "\\begin{align}\n",
    "D = \\lim_{n \\to \\infty} n(\\frac{\\frac{3^n}{2^n}}{\\frac{3^{n+1}}{2^{n+1}}}-1) = -\\frac{n}{3} = - \\infty\n",
    "\\end{align}\n",
    "\n",
    "Так как D < 1, то ряд расходится."
   ]
  },
  {
   "cell_type": "markdown",
   "metadata": {},
   "source": [
    "**Задача 5. Разложить функцию по Тейлору в единице**\n",
    "\n",
    "\\begin{align}\n",
    "f(x) = ln(16x^2), a = 1\n",
    "\\end{align}"
   ]
  },
  {
   "cell_type": "markdown",
   "metadata": {},
   "source": [
    "\\begin{align}\n",
    "ln(16x^2) = 1 + f'(1)(x - 1)+ \\frac{f''(1)}{2!}(x-1)^2\n",
    "\\end{align}\n",
    "\n",
    "Найдем производную \n",
    "\n",
    "Если под натуральным логарифмом находится сложная функция, используем формулу: \n",
    "\n",
    "\\begin{align}\n",
    "ln(u) = \\frac{1}{u}*u'\\\\\n",
    "\\end{align}\n",
    "\n",
    "\\begin{align}\n",
    "f(x)' = (ln(16x^2))' = \\frac{1}{16x^2}*(16x^2)' = \\frac{2}{x}\n",
    "\\end{align}\n",
    "\n",
    "Продолжим дифференцирование по формуле \n",
    "\n",
    "\\begin{align}\n",
    "f(Cx^\\alpha)' = = C*\\alpha*x^{\\alpha-1}\n",
    "\\end{align}\n",
    "\n",
    "\n",
    "\\begin{align}\n",
    "f(x)'' = (\\frac{2}{x})' = 2(-1)(x)^{-1*-1} = - \\frac{2}{x^2}\n",
    "\\end{align}\n",
    "\n",
    "Подставим значения в формулу \n",
    "\n",
    "\\begin{align}\n",
    "ln(16x^2) = 1 + 2(x - 1)+ \\frac{-2}{2!}(x-1)^2 \\\\\n",
    "ln(16x^2) = - x^2 + 4x - 2\n",
    "\\end{align}\n"
   ]
  },
  {
   "cell_type": "markdown",
   "metadata": {},
   "source": [
    "Задача 6. Разложить функцию в ряд Фурье по косинусам на отрезке от -2 до 0 и построить график функции и ее разложения \n",
    "\n",
    "\\begin{align}\n",
    "f(x) = x^2\n",
    "\\end{align}"
   ]
  },
  {
   "cell_type": "code",
   "execution_count": null,
   "metadata": {},
   "outputs": [],
   "source": []
  }
 ],
 "metadata": {
  "kernelspec": {
   "display_name": "Python 3",
   "language": "python",
   "name": "python3"
  },
  "language_info": {
   "codemirror_mode": {
    "name": "ipython",
    "version": 3
   },
   "file_extension": ".py",
   "mimetype": "text/x-python",
   "name": "python",
   "nbconvert_exporter": "python",
   "pygments_lexer": "ipython3",
   "version": "3.7.3"
  }
 },
 "nbformat": 4,
 "nbformat_minor": 2
}
